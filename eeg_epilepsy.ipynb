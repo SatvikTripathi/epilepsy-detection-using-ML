{
 "cells": [
  {
   "cell_type": "markdown",
   "metadata": {
    "colab_type": "text",
    "id": "view-in-github"
   },
   "source": [
    "<a href=\"https://colab.research.google.com/github/talhaanwarch/youtube-tutorials/blob/main/eeg_epilepsy.ipynb\" target=\"_parent\"><img src=\"https://colab.research.google.com/assets/colab-badge.svg\" alt=\"Open In Colab\"/></a>"
   ]
  },
  {
   "cell_type": "markdown",
   "metadata": {
    "id": "0dTIQ9mbPThA"
   },
   "source": [
    "# Unzip the data"
   ]
  },
  {
   "cell_type": "code",
   "execution_count": null,
   "metadata": {},
   "outputs": [],
   "source": [
    "import warnings\n",
    "warnings.filterwarnings(\"ignore\")"
   ]
  },
  {
   "cell_type": "code",
   "execution_count": null,
   "metadata": {
    "id": "EREN4IjUUnmm"
   },
   "outputs": [],
   "source": [
    "#unzip the files\n",
    "from zipfile import ZipFile\n",
    "data = ZipFile('EEGs_Guinea-Bissau.zip')\n",
    "data.extractall()"
   ]
  },
  {
   "cell_type": "markdown",
   "metadata": {
    "id": "pZ3JhqMAPWFe"
   },
   "source": [
    "# Read data"
   ]
  },
  {
   "cell_type": "code",
   "execution_count": 5,
   "metadata": {
    "id": "CYqLPWjrU1pj"
   },
   "outputs": [],
   "source": [
    "import pandas as pd\n",
    "import numpy as np\n",
    "from matplotlib import pyplot as plt"
   ]
  },
  {
   "cell_type": "code",
   "execution_count": 6,
   "metadata": {
    "colab": {
     "base_uri": "https://localhost:8080/",
     "height": 206
    },
    "id": "wsBVGx60VDbY",
    "outputId": "bf6ff63b-75cb-4c90-835e-e0fbb09772d4"
   },
   "outputs": [
    {
     "data": {
      "text/html": [
       "<div>\n",
       "<style scoped>\n",
       "    .dataframe tbody tr th:only-of-type {\n",
       "        vertical-align: middle;\n",
       "    }\n",
       "\n",
       "    .dataframe tbody tr th {\n",
       "        vertical-align: top;\n",
       "    }\n",
       "\n",
       "    .dataframe thead th {\n",
       "        text-align: right;\n",
       "    }\n",
       "</style>\n",
       "<table border=\"1\" class=\"dataframe\">\n",
       "  <thead>\n",
       "    <tr style=\"text-align: right;\">\n",
       "      <th></th>\n",
       "      <th>subject.id</th>\n",
       "      <th>Group</th>\n",
       "      <th>Eyes.condition</th>\n",
       "      <th>Remarks</th>\n",
       "      <th>recordedPeriod</th>\n",
       "      <th>startTime</th>\n",
       "    </tr>\n",
       "  </thead>\n",
       "  <tbody>\n",
       "    <tr>\n",
       "      <th>0</th>\n",
       "      <td>1</td>\n",
       "      <td>Epilepsy</td>\n",
       "      <td>closed-3min-then-open-2min</td>\n",
       "      <td>by 45s reposition electrodes</td>\n",
       "      <td>301</td>\n",
       "      <td>27/5/2020 14:33</td>\n",
       "    </tr>\n",
       "    <tr>\n",
       "      <th>1</th>\n",
       "      <td>2</td>\n",
       "      <td>Control</td>\n",
       "      <td>open-3min-then-closed-2min</td>\n",
       "      <td>NaN</td>\n",
       "      <td>309</td>\n",
       "      <td>26/5/2020 22:44</td>\n",
       "    </tr>\n",
       "    <tr>\n",
       "      <th>2</th>\n",
       "      <td>3</td>\n",
       "      <td>Epilepsy</td>\n",
       "      <td>closed-3min-then-open-2min</td>\n",
       "      <td>NaN</td>\n",
       "      <td>309</td>\n",
       "      <td>27/5/2020 14:26</td>\n",
       "    </tr>\n",
       "    <tr>\n",
       "      <th>3</th>\n",
       "      <td>4</td>\n",
       "      <td>Epilepsy</td>\n",
       "      <td>closed-3min-then-open-2min</td>\n",
       "      <td>Green lights not shown, but good EEG traces</td>\n",
       "      <td>299</td>\n",
       "      <td>27/5/2020 15:23</td>\n",
       "    </tr>\n",
       "    <tr>\n",
       "      <th>4</th>\n",
       "      <td>5</td>\n",
       "      <td>Control</td>\n",
       "      <td>closed-3min-then-open-2min</td>\n",
       "      <td>NaN</td>\n",
       "      <td>302</td>\n",
       "      <td>23/5/2020 19:09</td>\n",
       "    </tr>\n",
       "  </tbody>\n",
       "</table>\n",
       "</div>"
      ],
      "text/plain": [
       "   subject.id     Group              Eyes.condition  \\\n",
       "0           1  Epilepsy  closed-3min-then-open-2min   \n",
       "1           2   Control  open-3min-then-closed-2min   \n",
       "2           3  Epilepsy  closed-3min-then-open-2min   \n",
       "3           4  Epilepsy  closed-3min-then-open-2min   \n",
       "4           5   Control  closed-3min-then-open-2min   \n",
       "\n",
       "                                       Remarks  recordedPeriod  \\\n",
       "0                 by 45s reposition electrodes             301   \n",
       "1                                          NaN             309   \n",
       "2                                          NaN             309   \n",
       "3  Green lights not shown, but good EEG traces             299   \n",
       "4                                          NaN             302   \n",
       "\n",
       "         startTime  \n",
       "0  27/5/2020 14:33  \n",
       "1  26/5/2020 22:44  \n",
       "2  27/5/2020 14:26  \n",
       "3  27/5/2020 15:23  \n",
       "4  23/5/2020 19:09  "
      ]
     },
     "execution_count": 6,
     "metadata": {},
     "output_type": "execute_result"
    }
   ],
   "source": [
    "meta_df=pd.read_csv('https://zenodo.org/record/1252141/files/metadata_guineabissau.csv')\n",
    "meta_df.head()"
   ]
  },
  {
   "cell_type": "code",
   "execution_count": 34,
   "metadata": {},
   "outputs": [
    {
     "name": "stdout",
     "output_type": "stream",
     "text": [
      "(97, 6)\n"
     ]
    }
   ],
   "source": [
    "print(meta_df.shape)"
   ]
  },
  {
   "cell_type": "code",
   "execution_count": 7,
   "metadata": {
    "id": "pRRIxnflVJAT"
   },
   "outputs": [],
   "source": [
    "#now i need to seprate Epilepsy vs Control subjects\n",
    "EP_sub=meta_df['subject.id'][meta_df['Group']=='Epilepsy']\n",
    "CT_sub=meta_df['subject.id'][meta_df['Group']=='Control']\n",
    "\n"
   ]
  },
  {
   "cell_type": "code",
   "execution_count": 9,
   "metadata": {
    "id": "0HkJWxjtVgF9"
   },
   "outputs": [],
   "source": [
    "#read csv files\n",
    "Epilepsy=[pd.read_csv('EEGs_Guinea-Bissau/signal-{}.csv.gz'.format(i), compression='gzip') for i in  EP_sub]\n",
    "Control=[pd.read_csv('EEGs_Guinea-Bissau/signal-{}.csv.gz'.format(i), compression='gzip') for i in  CT_sub]"
   ]
  },
  {
   "cell_type": "code",
   "execution_count": null,
   "metadata": {
    "colab": {
     "base_uri": "https://localhost:8080/",
     "height": 317
    },
    "id": "C06Vw5PaVwS4",
    "outputId": "25abf640-e779-4ab2-ec87-2147fabb7eae"
   },
   "outputs": [
    {
     "data": {
      "text/html": [
       "<div>\n",
       "<style scoped>\n",
       "    .dataframe tbody tr th:only-of-type {\n",
       "        vertical-align: middle;\n",
       "    }\n",
       "\n",
       "    .dataframe tbody tr th {\n",
       "        vertical-align: top;\n",
       "    }\n",
       "\n",
       "    .dataframe thead th {\n",
       "        text-align: right;\n",
       "    }\n",
       "</style>\n",
       "<table border=\"1\" class=\"dataframe\">\n",
       "  <thead>\n",
       "    <tr style=\"text-align: right;\">\n",
       "      <th></th>\n",
       "      <th>Unnamed: 0</th>\n",
       "      <th>AF3</th>\n",
       "      <th>AF4</th>\n",
       "      <th>F3</th>\n",
       "      <th>F4</th>\n",
       "      <th>F7</th>\n",
       "      <th>F8</th>\n",
       "      <th>FC5</th>\n",
       "      <th>FC6</th>\n",
       "      <th>O1</th>\n",
       "      <th>...</th>\n",
       "      <th>CQ_F3</th>\n",
       "      <th>CQ_P7</th>\n",
       "      <th>CQ_P8</th>\n",
       "      <th>CQ_F4</th>\n",
       "      <th>CQ_AF3</th>\n",
       "      <th>CQ_FC5</th>\n",
       "      <th>CQ_O1</th>\n",
       "      <th>CQ_T8</th>\n",
       "      <th>CQ_F8</th>\n",
       "      <th>CQ_DRL</th>\n",
       "    </tr>\n",
       "  </thead>\n",
       "  <tbody>\n",
       "    <tr>\n",
       "      <th>0</th>\n",
       "      <td>1</td>\n",
       "      <td>4426.153846</td>\n",
       "      <td>3994.871795</td>\n",
       "      <td>4408.205128</td>\n",
       "      <td>3847.692308</td>\n",
       "      <td>4690.256410</td>\n",
       "      <td>3895.897436</td>\n",
       "      <td>4702.051282</td>\n",
       "      <td>3914.871795</td>\n",
       "      <td>4049.743590</td>\n",
       "      <td>...</td>\n",
       "      <td>4</td>\n",
       "      <td>4</td>\n",
       "      <td>4</td>\n",
       "      <td>4</td>\n",
       "      <td>4</td>\n",
       "      <td>4</td>\n",
       "      <td>4</td>\n",
       "      <td>4</td>\n",
       "      <td>4</td>\n",
       "      <td>4</td>\n",
       "    </tr>\n",
       "    <tr>\n",
       "      <th>1</th>\n",
       "      <td>2</td>\n",
       "      <td>4420.512821</td>\n",
       "      <td>3986.666667</td>\n",
       "      <td>4394.358974</td>\n",
       "      <td>3836.923077</td>\n",
       "      <td>4678.461538</td>\n",
       "      <td>3886.666667</td>\n",
       "      <td>4696.410256</td>\n",
       "      <td>3910.769231</td>\n",
       "      <td>4054.358974</td>\n",
       "      <td>...</td>\n",
       "      <td>4</td>\n",
       "      <td>4</td>\n",
       "      <td>4</td>\n",
       "      <td>4</td>\n",
       "      <td>4</td>\n",
       "      <td>4</td>\n",
       "      <td>4</td>\n",
       "      <td>4</td>\n",
       "      <td>4</td>\n",
       "      <td>4</td>\n",
       "    </tr>\n",
       "    <tr>\n",
       "      <th>2</th>\n",
       "      <td>3</td>\n",
       "      <td>4413.846154</td>\n",
       "      <td>3986.153846</td>\n",
       "      <td>4386.666667</td>\n",
       "      <td>3831.794872</td>\n",
       "      <td>4654.871795</td>\n",
       "      <td>3881.025641</td>\n",
       "      <td>4690.769231</td>\n",
       "      <td>3908.205128</td>\n",
       "      <td>4066.666667</td>\n",
       "      <td>...</td>\n",
       "      <td>4</td>\n",
       "      <td>4</td>\n",
       "      <td>4</td>\n",
       "      <td>4</td>\n",
       "      <td>4</td>\n",
       "      <td>4</td>\n",
       "      <td>4</td>\n",
       "      <td>4</td>\n",
       "      <td>4</td>\n",
       "      <td>4</td>\n",
       "    </tr>\n",
       "    <tr>\n",
       "      <th>3</th>\n",
       "      <td>4</td>\n",
       "      <td>4407.692308</td>\n",
       "      <td>3984.615385</td>\n",
       "      <td>4384.102564</td>\n",
       "      <td>3832.820513</td>\n",
       "      <td>4644.615385</td>\n",
       "      <td>3883.076923</td>\n",
       "      <td>4686.153846</td>\n",
       "      <td>3910.256410</td>\n",
       "      <td>4063.076923</td>\n",
       "      <td>...</td>\n",
       "      <td>4</td>\n",
       "      <td>4</td>\n",
       "      <td>4</td>\n",
       "      <td>4</td>\n",
       "      <td>4</td>\n",
       "      <td>4</td>\n",
       "      <td>4</td>\n",
       "      <td>4</td>\n",
       "      <td>4</td>\n",
       "      <td>4</td>\n",
       "    </tr>\n",
       "    <tr>\n",
       "      <th>4</th>\n",
       "      <td>5</td>\n",
       "      <td>4407.179487</td>\n",
       "      <td>3978.974359</td>\n",
       "      <td>4382.564103</td>\n",
       "      <td>3832.307692</td>\n",
       "      <td>4647.692308</td>\n",
       "      <td>3878.974359</td>\n",
       "      <td>4685.641026</td>\n",
       "      <td>3903.076923</td>\n",
       "      <td>4057.948718</td>\n",
       "      <td>...</td>\n",
       "      <td>4</td>\n",
       "      <td>4</td>\n",
       "      <td>4</td>\n",
       "      <td>4</td>\n",
       "      <td>4</td>\n",
       "      <td>4</td>\n",
       "      <td>4</td>\n",
       "      <td>4</td>\n",
       "      <td>4</td>\n",
       "      <td>4</td>\n",
       "    </tr>\n",
       "  </tbody>\n",
       "</table>\n",
       "<p>5 rows × 36 columns</p>\n",
       "</div>"
      ],
      "text/plain": [
       "   Unnamed: 0          AF3          AF4           F3           F4  \\\n",
       "0           1  4426.153846  3994.871795  4408.205128  3847.692308   \n",
       "1           2  4420.512821  3986.666667  4394.358974  3836.923077   \n",
       "2           3  4413.846154  3986.153846  4386.666667  3831.794872   \n",
       "3           4  4407.692308  3984.615385  4384.102564  3832.820513   \n",
       "4           5  4407.179487  3978.974359  4382.564103  3832.307692   \n",
       "\n",
       "            F7           F8          FC5          FC6           O1  ...  \\\n",
       "0  4690.256410  3895.897436  4702.051282  3914.871795  4049.743590  ...   \n",
       "1  4678.461538  3886.666667  4696.410256  3910.769231  4054.358974  ...   \n",
       "2  4654.871795  3881.025641  4690.769231  3908.205128  4066.666667  ...   \n",
       "3  4644.615385  3883.076923  4686.153846  3910.256410  4063.076923  ...   \n",
       "4  4647.692308  3878.974359  4685.641026  3903.076923  4057.948718  ...   \n",
       "\n",
       "   CQ_F3  CQ_P7  CQ_P8  CQ_F4  CQ_AF3  CQ_FC5  CQ_O1  CQ_T8  CQ_F8  CQ_DRL  \n",
       "0      4      4      4      4       4       4      4      4      4       4  \n",
       "1      4      4      4      4       4       4      4      4      4       4  \n",
       "2      4      4      4      4       4       4      4      4      4       4  \n",
       "3      4      4      4      4       4       4      4      4      4       4  \n",
       "4      4      4      4      4       4       4      4      4      4       4  \n",
       "\n",
       "[5 rows x 36 columns]"
      ]
     },
     "execution_count": 10,
     "metadata": {},
     "output_type": "execute_result"
    }
   ],
   "source": [
    "Epilepsy[0].head()"
   ]
  },
  {
   "cell_type": "code",
   "execution_count": 11,
   "metadata": {
    "id": "aq6cOHyVWJ0-"
   },
   "outputs": [],
   "source": [
    "#remove non eeg channels\n",
    "Epilepsy=[i.iloc[:,1:15] for i in  Epilepsy]\n",
    "Control=[i.iloc[:,1:15] for i in  Control]"
   ]
  },
  {
   "cell_type": "markdown",
   "metadata": {
    "id": "QOcnawOcPYt7"
   },
   "source": [
    "# Convert to MNE object"
   ]
  },
  {
   "cell_type": "code",
   "execution_count": null,
   "metadata": {
    "id": "nNnQ8nZVWVkF"
   },
   "outputs": [],
   "source": [
    "import mne\n",
    "def convertDF2MNE(sub):\n",
    "    info = mne.create_info(list(sub.columns), ch_types=['eeg'] * len(sub.columns), sfreq=128)\n",
    "    info.set_montage('standard_1020')\n",
    "    data=mne.io.RawArray(sub.T, info)\n",
    "    data.set_eeg_reference()\n",
    "    data.filter(l_freq=0.1,h_freq=45)\n",
    "    epochs=mne.make_fixed_length_epochs(data,duration=5,overlap=1)\n",
    "    epochs=epochs.drop_bad()\n",
    "\n",
    "    return epochs"
   ]
  },
  {
   "cell_type": "code",
   "execution_count": 13,
   "metadata": {
    "id": "1a-tFpz6XaW3"
   },
   "outputs": [],
   "source": [
    "%%capture\n",
    "#Convert each dataframe to mne object\n",
    "Epilepsy=[convertDF2MNE(i) for i in  Epilepsy]\n",
    "Control=[convertDF2MNE(i) for i in  Control]"
   ]
  },
  {
   "cell_type": "code",
   "execution_count": 14,
   "metadata": {
    "id": "isk-LSSLBEhj"
   },
   "outputs": [],
   "source": [
    "%%capture\n",
    "#concatenate the epochs\n",
    "Epilepsy_epochs=mne.concatenate_epochs(Epilepsy)\n",
    "Control_epochs=mne.concatenate_epochs(Control)\n"
   ]
  },
  {
   "cell_type": "markdown",
   "metadata": {
    "id": "4B4R_ltbPcuT"
   },
   "source": [
    "# Create labels and groups"
   ]
  },
  {
   "cell_type": "code",
   "execution_count": 15,
   "metadata": {
    "id": "FDzPSY159zq5"
   },
   "outputs": [],
   "source": [
    "Epilepsy_group=np.concatenate([[i]*len(Epilepsy[i]) for i in range(len(Epilepsy))])#create a list of list where each sub list corresponds to subject_no\n",
    "Control_group=np.concatenate([[i]*len(Control[i]) for i in range(len(Control))])#create a list of list where each sub list corresponds to subject_no\n",
    "\n",
    "Epilepsy_label=np.concatenate([[0]*len(Epilepsy[i]) for i in range(len(Epilepsy))])\n",
    "Control_label=np.concatenate([[1]*len(Control[i]) for i in range(len(Control))])"
   ]
  },
  {
   "cell_type": "code",
   "execution_count": 16,
   "metadata": {
    "colab": {
     "base_uri": "https://localhost:8080/"
    },
    "id": "tMDKoBnBAOqH",
    "outputId": "633e31e3-60f4-40b2-a2f2-38e38b7b36fd"
   },
   "outputs": [
    {
     "data": {
      "text/plain": [
       "((3995,), (3461,), (3995,), (3461,))"
      ]
     },
     "execution_count": 16,
     "metadata": {},
     "output_type": "execute_result"
    }
   ],
   "source": [
    "Epilepsy_group.shape,Control_group.shape,Epilepsy_label.shape,Control_label.shape"
   ]
  },
  {
   "cell_type": "code",
   "execution_count": 19,
   "metadata": {
    "colab": {
     "base_uri": "https://localhost:8080/"
    },
    "id": "0qpTA318CONT",
    "outputId": "3cf4ae86-cbaf-4fab-b663-920e12558fe2"
   },
   "outputs": [
    {
     "name": "stdout",
     "output_type": "stream",
     "text": [
      "Not setting metadata\n",
      "7456 matching events found\n",
      "No baseline correction applied\n",
      "7456 7456 7456\n"
     ]
    }
   ],
   "source": [
    "#combine data\n",
    "data=mne.concatenate_epochs([Epilepsy_epochs,Control_epochs])\n",
    "group=np.concatenate((Epilepsy_group,Control_group))\n",
    "label=np.concatenate((Epilepsy_label,Control_label))\n",
    "print(len(data),len(group),len(label))"
   ]
  },
  {
   "cell_type": "markdown",
   "metadata": {
    "id": "SnjeFhVltiRR"
   },
   "source": [
    "# Feature Extraction - Power spectral density\n",
    "The power spectral density of a signal is a measure of how much power the signal has at each different frequency. The power spectral density (power spectrum) reflects the ‘frequency content’ of the signal or the distribution of signal power over frequency.  \n"
   ]
  },
  {
   "cell_type": "code",
   "execution_count": 30,
   "metadata": {
    "id": "dhK4vRC4n-4c"
   },
   "outputs": [],
   "source": [
    "# source: https://mne.tools/stable/auto_tutorials/clinical/60_sleep.html#sphx-glr-auto-tutorials-clinical-60-sleep-py\n",
    "# from mne.time_frequency import psd_welch\n",
    "def eeg_power_band(epochs):\n",
    "    \"\"\"EEG relative power band feature extraction.\n",
    "\n",
    "    This function takes an ``mne.Epochs`` object and creates EEG features based\n",
    "    on relative power in specific frequency bands that are compatible with\n",
    "    scikit-learn.\n",
    "\n",
    "    Parameters\n",
    "    ----------\n",
    "    epochs : mne.Epochs\n",
    "        The data.\n",
    "\n",
    "    Returns\n",
    "    -------\n",
    "    X : numpy array of shape [n_samples, n_bands * n_channels]\n",
    "        Transformed data.\n",
    "    \"\"\"\n",
    "    # Define specific frequency bands\n",
    "    FREQ_BANDS = {\n",
    "        \"delta\": [0.5, 4.5],\n",
    "        \"theta\": [4.5, 8.5],\n",
    "        \"alpha\": [8.5, 11.5],\n",
    "        \"sigma\": [11.5, 15.5],\n",
    "        \"beta\": [15.5, 30],\n",
    "        \"gamma\": [30, 45],\n",
    "    }\n",
    "\n",
    "    # Compute the PSD using the compute_psd method\n",
    "    psd = epochs.compute_psd(method=\"welch\", fmin=0.5, fmax=45, picks=\"eeg\")\n",
    "    psds, freqs = psd.get_data(return_freqs=True)  # Get PSD values and frequencies\n",
    "\n",
    "    # Normalize the PSDs\n",
    "    psds /= np.sum(psds, axis=-1, keepdims=True)\n",
    "\n",
    "    # Extract mean PSD for each frequency band\n",
    "    X = []  # Initialize feature list\n",
    "    for fmin, fmax in FREQ_BANDS.values():\n",
    "        # Identify frequencies within the band\n",
    "        freq_mask = (freqs >= fmin) & (freqs < fmax)\n",
    "        # Compute mean PSD for the band and add to the feature list\n",
    "        psds_band = psds[:, :, freq_mask].mean(axis=-1)\n",
    "        X.append(psds_band)\n",
    "\n",
    "    # Concatenate the mean PSDs for all bands\n",
    "    return np.concatenate(X, axis=1)#Concatenate the mean PSDs for each band into a single feature vector"
   ]
  },
  {
   "cell_type": "markdown",
   "metadata": {
    "id": "0bAKzjyKPh7u"
   },
   "source": [
    "# Classification 5-fold"
   ]
  },
  {
   "cell_type": "code",
   "execution_count": 27,
   "metadata": {
    "id": "dtbouUjgrDbi"
   },
   "outputs": [],
   "source": [
    "from sklearn.ensemble import RandomForestClassifier\n",
    "from sklearn.model_selection import cross_val_score"
   ]
  },
  {
   "cell_type": "code",
   "execution_count": 28,
   "metadata": {},
   "outputs": [
    {
     "name": "stdout",
     "output_type": "stream",
     "text": [
      "1.8.0\n"
     ]
    }
   ],
   "source": [
    "print(mne.__version__)"
   ]
  },
  {
   "cell_type": "code",
   "execution_count": 31,
   "metadata": {
    "id": "8PsOWqLaKn6K"
   },
   "outputs": [],
   "source": [
    "%%capture\n",
    "features=[]\n",
    "for d in range(len(data)):#get features from each epoch and save in a list\n",
    "  features.append(eeg_power_band(data[d]))"
   ]
  },
  {
   "cell_type": "code",
   "execution_count": 32,
   "metadata": {
    "colab": {
     "base_uri": "https://localhost:8080/"
    },
    "id": "m59hZOOWM01E",
    "outputId": "27ed2e47-b66f-473c-962f-99bce3f478a3"
   },
   "outputs": [
    {
     "data": {
      "text/plain": [
       "(7456, 84)"
      ]
     },
     "execution_count": 32,
     "metadata": {},
     "output_type": "execute_result"
    }
   ],
   "source": [
    "#convert list to array\n",
    "features=np.concatenate(features)\n",
    "features.shape"
   ]
  },
  {
   "cell_type": "code",
   "execution_count": null,
   "metadata": {
    "colab": {
     "base_uri": "https://localhost:8080/"
    },
    "id": "UwOOeONDranq",
    "outputId": "193f3bf9-2fa1-4bd6-91fd-1b24e13f317f"
   },
   "outputs": [
    {
     "name": "stderr",
     "output_type": "stream",
     "text": [
      "c:\\Users\\satvi\\AppData\\Local\\Programs\\Python\\Python39\\lib\\site-packages\\sklearn\\model_selection\\_split.py:848: UserWarning: The groups parameter is ignored by StratifiedKFold\n",
      "  warnings.warn(\n"
     ]
    },
    {
     "name": "stdout",
     "output_type": "stream",
     "text": [
      "Five fold accuracies [0.71313673 0.69751844 0.6498994  0.72434608 0.68209256]\n",
      "Average accuracy 0.6933986402777703\n"
     ]
    }
   ],
   "source": [
    "#do 5 fold cross validation\n",
    "clf=RandomForestClassifier()\n",
    "rfc_accuracies=cross_val_score(clf, features,label,groups=group,cv=5)\n",
    "print('Five fold accuracies',accuracies)\n",
    "print('Average accuracy',np.mean(accuracies))"
   ]
  },
  {
   "cell_type": "code",
   "execution_count": 35,
   "metadata": {
    "id": "aRS5y0zTRm06"
   },
   "outputs": [
    {
     "name": "stdout",
     "output_type": "stream",
     "text": [
      "Model saved as random_forest_model.pkl\n"
     ]
    }
   ],
   "source": [
    "import pickle\n",
    "\n",
    "with open(\"models/random_forest_model.pkl\", \"wb\") as file:\n",
    "    pickle.dump(clf, file)\n",
    "\n",
    "print(\"Model saved as random_forest_model.pkl\")"
   ]
  },
  {
   "cell_type": "code",
   "execution_count": 37,
   "metadata": {},
   "outputs": [
    {
     "name": "stdout",
     "output_type": "stream",
     "text": [
      "Collecting xgboost\n",
      "  Downloading xgboost-2.1.3-py3-none-win_amd64.whl.metadata (2.1 kB)\n",
      "Requirement already satisfied: numpy in c:\\users\\satvi\\appdata\\local\\programs\\python\\python39\\lib\\site-packages (from xgboost) (1.26.4)\n",
      "Requirement already satisfied: scipy in c:\\users\\satvi\\appdata\\local\\programs\\python\\python39\\lib\\site-packages (from xgboost) (1.13.1)\n",
      "Downloading xgboost-2.1.3-py3-none-win_amd64.whl (124.9 MB)\n",
      "   ---------------------------------------- 0.0/124.9 MB ? eta -:--:--\n",
      "   ---------------------------------------- 0.3/124.9 MB ? eta -:--:--\n",
      "   ---------------------------------------- 1.0/124.9 MB 3.3 MB/s eta 0:00:38\n",
      "    --------------------------------------- 1.8/124.9 MB 3.7 MB/s eta 0:00:34\n",
      "    --------------------------------------- 2.4/124.9 MB 3.4 MB/s eta 0:00:36\n",
      "   - -------------------------------------- 3.4/124.9 MB 3.6 MB/s eta 0:00:34\n",
      "   - -------------------------------------- 4.2/124.9 MB 3.8 MB/s eta 0:00:33\n",
      "   - -------------------------------------- 5.5/124.9 MB 4.1 MB/s eta 0:00:30\n",
      "   -- ------------------------------------- 6.6/124.9 MB 4.2 MB/s eta 0:00:28\n",
      "   -- ------------------------------------- 7.9/124.9 MB 4.5 MB/s eta 0:00:27\n",
      "   -- ------------------------------------- 8.7/124.9 MB 4.5 MB/s eta 0:00:26\n",
      "   --- ------------------------------------ 9.4/124.9 MB 4.3 MB/s eta 0:00:27\n",
      "   --- ------------------------------------ 10.5/124.9 MB 4.4 MB/s eta 0:00:27\n",
      "   --- ------------------------------------ 11.8/124.9 MB 4.6 MB/s eta 0:00:25\n",
      "   ---- ----------------------------------- 13.1/124.9 MB 4.7 MB/s eta 0:00:24\n",
      "   ---- ----------------------------------- 14.4/124.9 MB 4.8 MB/s eta 0:00:23\n",
      "   ----- ---------------------------------- 15.7/124.9 MB 4.9 MB/s eta 0:00:23\n",
      "   ----- ---------------------------------- 17.0/124.9 MB 4.9 MB/s eta 0:00:22\n",
      "   ----- ---------------------------------- 18.1/124.9 MB 4.9 MB/s eta 0:00:22\n",
      "   ------ --------------------------------- 19.1/124.9 MB 5.0 MB/s eta 0:00:22\n",
      "   ------ --------------------------------- 20.4/124.9 MB 5.1 MB/s eta 0:00:21\n",
      "   ------- -------------------------------- 22.0/124.9 MB 5.1 MB/s eta 0:00:21\n",
      "   ------- -------------------------------- 23.1/124.9 MB 5.2 MB/s eta 0:00:20\n",
      "   ------- -------------------------------- 24.1/124.9 MB 5.2 MB/s eta 0:00:20\n",
      "   -------- ------------------------------- 25.2/124.9 MB 5.2 MB/s eta 0:00:20\n",
      "   -------- ------------------------------- 26.5/124.9 MB 5.2 MB/s eta 0:00:19\n",
      "   -------- ------------------------------- 27.8/124.9 MB 5.2 MB/s eta 0:00:19\n",
      "   --------- ------------------------------ 29.1/124.9 MB 5.3 MB/s eta 0:00:19\n",
      "   --------- ------------------------------ 30.4/124.9 MB 5.3 MB/s eta 0:00:18\n",
      "   ---------- ----------------------------- 31.7/124.9 MB 5.3 MB/s eta 0:00:18\n",
      "   ---------- ----------------------------- 32.8/124.9 MB 5.3 MB/s eta 0:00:18\n",
      "   ---------- ----------------------------- 34.1/124.9 MB 5.4 MB/s eta 0:00:17\n",
      "   ----------- ---------------------------- 34.9/124.9 MB 5.4 MB/s eta 0:00:17\n",
      "   ----------- ---------------------------- 35.9/124.9 MB 5.3 MB/s eta 0:00:17\n",
      "   ----------- ---------------------------- 37.2/124.9 MB 5.3 MB/s eta 0:00:17\n",
      "   ------------ --------------------------- 38.5/124.9 MB 5.3 MB/s eta 0:00:17\n",
      "   ------------ --------------------------- 39.8/124.9 MB 5.4 MB/s eta 0:00:16\n",
      "   ------------- -------------------------- 40.9/124.9 MB 5.4 MB/s eta 0:00:16\n",
      "   ------------- -------------------------- 42.2/124.9 MB 5.4 MB/s eta 0:00:16\n",
      "   ------------- -------------------------- 43.5/124.9 MB 5.4 MB/s eta 0:00:16\n",
      "   -------------- ------------------------- 44.8/124.9 MB 5.4 MB/s eta 0:00:15\n",
      "   -------------- ------------------------- 45.9/124.9 MB 5.4 MB/s eta 0:00:15\n",
      "   --------------- ------------------------ 47.4/124.9 MB 5.5 MB/s eta 0:00:15\n",
      "   --------------- ------------------------ 48.5/124.9 MB 5.5 MB/s eta 0:00:14\n",
      "   --------------- ------------------------ 49.8/124.9 MB 5.5 MB/s eta 0:00:14\n",
      "   ---------------- ----------------------- 51.1/124.9 MB 5.5 MB/s eta 0:00:14\n",
      "   ---------------- ----------------------- 52.7/124.9 MB 5.5 MB/s eta 0:00:14\n",
      "   ----------------- ---------------------- 54.0/124.9 MB 5.6 MB/s eta 0:00:13\n",
      "   ----------------- ---------------------- 55.3/124.9 MB 5.6 MB/s eta 0:00:13\n",
      "   ------------------ --------------------- 56.4/124.9 MB 5.6 MB/s eta 0:00:13\n",
      "   ------------------ --------------------- 57.7/124.9 MB 5.6 MB/s eta 0:00:13\n",
      "   ------------------ --------------------- 59.0/124.9 MB 5.6 MB/s eta 0:00:12\n",
      "   ------------------- -------------------- 60.0/124.9 MB 5.6 MB/s eta 0:00:12\n",
      "   ------------------- -------------------- 61.3/124.9 MB 5.6 MB/s eta 0:00:12\n",
      "   -------------------- ------------------- 62.7/124.9 MB 5.6 MB/s eta 0:00:12\n",
      "   -------------------- ------------------- 64.0/124.9 MB 5.6 MB/s eta 0:00:11\n",
      "   -------------------- ------------------- 64.7/124.9 MB 5.6 MB/s eta 0:00:11\n",
      "   --------------------- ------------------ 65.8/124.9 MB 5.6 MB/s eta 0:00:11\n",
      "   --------------------- ------------------ 67.1/124.9 MB 5.6 MB/s eta 0:00:11\n",
      "   --------------------- ------------------ 68.4/124.9 MB 5.6 MB/s eta 0:00:11\n",
      "   ---------------------- ----------------- 69.7/124.9 MB 5.6 MB/s eta 0:00:10\n",
      "   ---------------------- ----------------- 71.0/124.9 MB 5.6 MB/s eta 0:00:10\n",
      "   ----------------------- ---------------- 72.4/124.9 MB 5.6 MB/s eta 0:00:10\n",
      "   ----------------------- ---------------- 73.9/124.9 MB 5.6 MB/s eta 0:00:10\n",
      "   ------------------------ --------------- 75.2/124.9 MB 5.6 MB/s eta 0:00:09\n",
      "   ------------------------ --------------- 76.5/124.9 MB 5.7 MB/s eta 0:00:09\n",
      "   ------------------------- -------------- 78.1/124.9 MB 5.7 MB/s eta 0:00:09\n",
      "   ------------------------- -------------- 79.2/124.9 MB 5.7 MB/s eta 0:00:09\n",
      "   ------------------------- -------------- 80.5/124.9 MB 5.7 MB/s eta 0:00:08\n",
      "   -------------------------- ------------- 81.8/124.9 MB 5.7 MB/s eta 0:00:08\n",
      "   -------------------------- ------------- 83.1/124.9 MB 5.7 MB/s eta 0:00:08\n",
      "   -------------------------- ------------- 84.1/124.9 MB 5.7 MB/s eta 0:00:08\n",
      "   --------------------------- ------------ 85.5/124.9 MB 5.7 MB/s eta 0:00:07\n",
      "   --------------------------- ------------ 86.2/124.9 MB 5.7 MB/s eta 0:00:07\n",
      "   --------------------------- ------------ 87.3/124.9 MB 5.7 MB/s eta 0:00:07\n",
      "   ---------------------------- ----------- 88.6/124.9 MB 5.7 MB/s eta 0:00:07\n",
      "   ---------------------------- ----------- 89.9/124.9 MB 5.7 MB/s eta 0:00:07\n",
      "   ----------------------------- ---------- 91.2/124.9 MB 5.7 MB/s eta 0:00:06\n",
      "   ----------------------------- ---------- 92.5/124.9 MB 5.7 MB/s eta 0:00:06\n",
      "   ----------------------------- ---------- 93.6/124.9 MB 5.7 MB/s eta 0:00:06\n",
      "   ------------------------------ --------- 94.9/124.9 MB 5.7 MB/s eta 0:00:06\n",
      "   ------------------------------ --------- 96.2/124.9 MB 5.7 MB/s eta 0:00:06\n",
      "   ------------------------------- -------- 97.5/124.9 MB 5.7 MB/s eta 0:00:05\n",
      "   ------------------------------- -------- 98.6/124.9 MB 5.7 MB/s eta 0:00:05\n",
      "   ------------------------------- -------- 99.9/124.9 MB 5.7 MB/s eta 0:00:05\n",
      "   -------------------------------- ------- 101.2/124.9 MB 5.7 MB/s eta 0:00:05\n",
      "   -------------------------------- ------- 102.5/124.9 MB 5.7 MB/s eta 0:00:04\n",
      "   --------------------------------- ------ 103.8/124.9 MB 5.7 MB/s eta 0:00:04\n",
      "   --------------------------------- ------ 104.9/124.9 MB 5.7 MB/s eta 0:00:04\n",
      "   --------------------------------- ------ 105.9/124.9 MB 5.7 MB/s eta 0:00:04\n",
      "   ---------------------------------- ----- 107.2/124.9 MB 5.7 MB/s eta 0:00:04\n",
      "   ---------------------------------- ----- 108.0/124.9 MB 5.7 MB/s eta 0:00:03\n",
      "   ----------------------------------- ---- 109.3/124.9 MB 5.7 MB/s eta 0:00:03\n",
      "   ----------------------------------- ---- 110.6/124.9 MB 5.7 MB/s eta 0:00:03\n",
      "   ----------------------------------- ---- 111.9/124.9 MB 5.7 MB/s eta 0:00:03\n",
      "   ------------------------------------ --- 113.2/124.9 MB 5.7 MB/s eta 0:00:03\n",
      "   ------------------------------------ --- 114.6/124.9 MB 5.7 MB/s eta 0:00:02\n",
      "   ------------------------------------- -- 115.6/124.9 MB 5.7 MB/s eta 0:00:02\n",
      "   ------------------------------------- -- 116.7/124.9 MB 5.7 MB/s eta 0:00:02\n",
      "   ------------------------------------- -- 118.0/124.9 MB 5.7 MB/s eta 0:00:02\n",
      "   -------------------------------------- - 119.0/124.9 MB 5.7 MB/s eta 0:00:02\n",
      "   -------------------------------------- - 120.1/124.9 MB 5.7 MB/s eta 0:00:01\n",
      "   -------------------------------------- - 121.1/124.9 MB 5.7 MB/s eta 0:00:01\n",
      "   ---------------------------------------  122.4/124.9 MB 5.7 MB/s eta 0:00:01\n",
      "   ---------------------------------------  123.7/124.9 MB 5.7 MB/s eta 0:00:01\n",
      "   ---------------------------------------  124.8/124.9 MB 5.7 MB/s eta 0:00:01\n",
      "   ---------------------------------------- 124.9/124.9 MB 5.6 MB/s eta 0:00:00\n",
      "Installing collected packages: xgboost\n",
      "Successfully installed xgboost-2.1.3\n"
     ]
    },
    {
     "name": "stderr",
     "output_type": "stream",
     "text": [
      "\n",
      "[notice] A new release of pip is available: 24.2 -> 24.3.1\n",
      "[notice] To update, run: python.exe -m pip install --upgrade pip\n"
     ]
    }
   ],
   "source": [
    "!pip install xgboost"
   ]
  },
  {
   "cell_type": "code",
   "execution_count": null,
   "metadata": {},
   "outputs": [
    {
     "name": "stderr",
     "output_type": "stream",
     "text": [
      "c:\\Users\\satvi\\AppData\\Local\\Programs\\Python\\Python39\\lib\\site-packages\\sklearn\\model_selection\\_split.py:848: UserWarning: The groups parameter is ignored by StratifiedKFold\n",
      "  warnings.warn(\n"
     ]
    },
    {
     "name": "stdout",
     "output_type": "stream",
     "text": [
      "Five fold accuracies [0.71581769 0.71026157 0.65593561 0.7444668  0.72367539]\n",
      "Average accuracy 0.7100314127841221\n"
     ]
    }
   ],
   "source": [
    "# #do 5 fold cross validation\n",
    "# from xgboost import XGBClassifier\n",
    "# xgbC=XGBClassifier()\n",
    "# xgb_accuracies=cross_val_score(xgbC, features,label,groups=group,cv=5)\n",
    "# print('Five fold accuracies',accuracies)\n",
    "# print('Average accuracy',np.mean(accuracies))"
   ]
  },
  {
   "cell_type": "code",
   "execution_count": null,
   "metadata": {},
   "outputs": [
    {
     "name": "stdout",
     "output_type": "stream",
     "text": [
      "Model saved as xgboost_model.pkl\n"
     ]
    }
   ],
   "source": [
    "# import pickle\n",
    "\n",
    "# with open(\"models/xgboost_model.pkl\", \"wb\") as file:\n",
    "#     pickle.dump(xgbC, file)\n",
    "\n",
    "# print(\"Model saved as xgboost_model.pkl\")"
   ]
  },
  {
   "cell_type": "code",
   "execution_count": 42,
   "metadata": {},
   "outputs": [
    {
     "name": "stderr",
     "output_type": "stream",
     "text": [
      "c:\\Users\\satvi\\AppData\\Local\\Programs\\Python\\Python39\\lib\\site-packages\\sklearn\\model_selection\\_split.py:848: UserWarning: The groups parameter is ignored by StratifiedKFold\n",
      "  warnings.warn(\n",
      "c:\\Users\\satvi\\AppData\\Local\\Programs\\Python\\Python39\\lib\\site-packages\\sklearn\\ensemble\\_weight_boosting.py:527: FutureWarning: The SAMME.R algorithm (the default) is deprecated and will be removed in 1.6. Use the SAMME algorithm to circumvent this warning.\n",
      "  warnings.warn(\n",
      "c:\\Users\\satvi\\AppData\\Local\\Programs\\Python\\Python39\\lib\\site-packages\\sklearn\\ensemble\\_weight_boosting.py:527: FutureWarning: The SAMME.R algorithm (the default) is deprecated and will be removed in 1.6. Use the SAMME algorithm to circumvent this warning.\n",
      "  warnings.warn(\n",
      "c:\\Users\\satvi\\AppData\\Local\\Programs\\Python\\Python39\\lib\\site-packages\\sklearn\\ensemble\\_weight_boosting.py:527: FutureWarning: The SAMME.R algorithm (the default) is deprecated and will be removed in 1.6. Use the SAMME algorithm to circumvent this warning.\n",
      "  warnings.warn(\n",
      "c:\\Users\\satvi\\AppData\\Local\\Programs\\Python\\Python39\\lib\\site-packages\\sklearn\\ensemble\\_weight_boosting.py:527: FutureWarning: The SAMME.R algorithm (the default) is deprecated and will be removed in 1.6. Use the SAMME algorithm to circumvent this warning.\n",
      "  warnings.warn(\n",
      "c:\\Users\\satvi\\AppData\\Local\\Programs\\Python\\Python39\\lib\\site-packages\\sklearn\\ensemble\\_weight_boosting.py:527: FutureWarning: The SAMME.R algorithm (the default) is deprecated and will be removed in 1.6. Use the SAMME algorithm to circumvent this warning.\n",
      "  warnings.warn(\n"
     ]
    },
    {
     "name": "stdout",
     "output_type": "stream",
     "text": [
      "Five fold accuracies [0.68766756 0.65928907 0.64386318 0.68544601 0.67203219]\n",
      "Average accuracy 0.6696596019369119\n"
     ]
    }
   ],
   "source": [
    "from sklearn.ensemble import AdaBoostClassifier\n",
    "from sklearn.tree import DecisionTreeClassifier\n",
    "\n",
    "base_classifier = DecisionTreeClassifier(max_depth=1)\n",
    "\n",
    "adaboost_model = AdaBoostClassifier(estimator=base_classifier, n_estimators=50)\n",
    "\n",
    "ada_accuracies = cross_val_score(adaboost_model, features, label, groups = group, cv = 5)\n",
    "\n",
    "print('Five fold accuracies',ada_accuracies)\n",
    "print('Average accuracy',np.mean(ada_accuracies))"
   ]
  },
  {
   "cell_type": "code",
   "execution_count": 46,
   "metadata": {},
   "outputs": [
    {
     "name": "stderr",
     "output_type": "stream",
     "text": [
      "c:\\Users\\satvi\\AppData\\Local\\Programs\\Python\\Python39\\lib\\site-packages\\sklearn\\model_selection\\_split.py:848: UserWarning: The groups parameter is ignored by StratifiedKFold\n",
      "  warnings.warn(\n",
      "c:\\Users\\satvi\\AppData\\Local\\Programs\\Python\\Python39\\lib\\site-packages\\xgboost\\core.py:158: UserWarning: [21:16:15] WARNING: C:\\buildkite-agent\\builds\\buildkite-windows-cpu-autoscaling-group-i-0c55ff5f71b100e98-1\\xgboost\\xgboost-ci-windows\\src\\learner.cc:740: \n",
      "Parameters: { \"n_estimator\", \"use_label_encoder\" } are not used.\n",
      "\n",
      "  warnings.warn(smsg, UserWarning)\n",
      "c:\\Users\\satvi\\AppData\\Local\\Programs\\Python\\Python39\\lib\\site-packages\\xgboost\\core.py:158: UserWarning: [21:16:16] WARNING: C:\\buildkite-agent\\builds\\buildkite-windows-cpu-autoscaling-group-i-0c55ff5f71b100e98-1\\xgboost\\xgboost-ci-windows\\src\\learner.cc:740: \n",
      "Parameters: { \"n_estimator\", \"use_label_encoder\" } are not used.\n",
      "\n",
      "  warnings.warn(smsg, UserWarning)\n",
      "c:\\Users\\satvi\\AppData\\Local\\Programs\\Python\\Python39\\lib\\site-packages\\xgboost\\core.py:158: UserWarning: [21:16:17] WARNING: C:\\buildkite-agent\\builds\\buildkite-windows-cpu-autoscaling-group-i-0c55ff5f71b100e98-1\\xgboost\\xgboost-ci-windows\\src\\learner.cc:740: \n",
      "Parameters: { \"n_estimator\", \"use_label_encoder\" } are not used.\n",
      "\n",
      "  warnings.warn(smsg, UserWarning)\n",
      "c:\\Users\\satvi\\AppData\\Local\\Programs\\Python\\Python39\\lib\\site-packages\\xgboost\\core.py:158: UserWarning: [21:16:17] WARNING: C:\\buildkite-agent\\builds\\buildkite-windows-cpu-autoscaling-group-i-0c55ff5f71b100e98-1\\xgboost\\xgboost-ci-windows\\src\\learner.cc:740: \n",
      "Parameters: { \"n_estimator\", \"use_label_encoder\" } are not used.\n",
      "\n",
      "  warnings.warn(smsg, UserWarning)\n",
      "c:\\Users\\satvi\\AppData\\Local\\Programs\\Python\\Python39\\lib\\site-packages\\xgboost\\core.py:158: UserWarning: [21:16:18] WARNING: C:\\buildkite-agent\\builds\\buildkite-windows-cpu-autoscaling-group-i-0c55ff5f71b100e98-1\\xgboost\\xgboost-ci-windows\\src\\learner.cc:740: \n",
      "Parameters: { \"n_estimator\", \"use_label_encoder\" } are not used.\n",
      "\n",
      "  warnings.warn(smsg, UserWarning)\n"
     ]
    },
    {
     "name": "stdout",
     "output_type": "stream",
     "text": [
      "Five fold accuracies [0.72386059 0.71294433 0.64788732 0.75519785 0.72501677]\n",
      "Average accuracy 0.7129813734956657\n"
     ]
    }
   ],
   "source": [
    "#do 5 fold cross validation\n",
    "from xgboost import XGBClassifier\n",
    "xgbC=XGBClassifier(max_depth = 5, n_estimator = 200, use_label_encoder = False)\n",
    "xgb_accuracies=cross_val_score(xgbC, features,label,groups=group,cv=5)\n",
    "print('Five fold accuracies',xgb_accuracies)\n",
    "print('Average accuracy',np.mean(xgb_accuracies))"
   ]
  },
  {
   "cell_type": "code",
   "execution_count": 44,
   "metadata": {},
   "outputs": [
    {
     "data": {
      "text/html": [
       "<style>#sk-container-id-1 {\n",
       "  /* Definition of color scheme common for light and dark mode */\n",
       "  --sklearn-color-text: black;\n",
       "  --sklearn-color-line: gray;\n",
       "  /* Definition of color scheme for unfitted estimators */\n",
       "  --sklearn-color-unfitted-level-0: #fff5e6;\n",
       "  --sklearn-color-unfitted-level-1: #f6e4d2;\n",
       "  --sklearn-color-unfitted-level-2: #ffe0b3;\n",
       "  --sklearn-color-unfitted-level-3: chocolate;\n",
       "  /* Definition of color scheme for fitted estimators */\n",
       "  --sklearn-color-fitted-level-0: #f0f8ff;\n",
       "  --sklearn-color-fitted-level-1: #d4ebff;\n",
       "  --sklearn-color-fitted-level-2: #b3dbfd;\n",
       "  --sklearn-color-fitted-level-3: cornflowerblue;\n",
       "\n",
       "  /* Specific color for light theme */\n",
       "  --sklearn-color-text-on-default-background: var(--sg-text-color, var(--theme-code-foreground, var(--jp-content-font-color1, black)));\n",
       "  --sklearn-color-background: var(--sg-background-color, var(--theme-background, var(--jp-layout-color0, white)));\n",
       "  --sklearn-color-border-box: var(--sg-text-color, var(--theme-code-foreground, var(--jp-content-font-color1, black)));\n",
       "  --sklearn-color-icon: #696969;\n",
       "\n",
       "  @media (prefers-color-scheme: dark) {\n",
       "    /* Redefinition of color scheme for dark theme */\n",
       "    --sklearn-color-text-on-default-background: var(--sg-text-color, var(--theme-code-foreground, var(--jp-content-font-color1, white)));\n",
       "    --sklearn-color-background: var(--sg-background-color, var(--theme-background, var(--jp-layout-color0, #111)));\n",
       "    --sklearn-color-border-box: var(--sg-text-color, var(--theme-code-foreground, var(--jp-content-font-color1, white)));\n",
       "    --sklearn-color-icon: #878787;\n",
       "  }\n",
       "}\n",
       "\n",
       "#sk-container-id-1 {\n",
       "  color: var(--sklearn-color-text);\n",
       "}\n",
       "\n",
       "#sk-container-id-1 pre {\n",
       "  padding: 0;\n",
       "}\n",
       "\n",
       "#sk-container-id-1 input.sk-hidden--visually {\n",
       "  border: 0;\n",
       "  clip: rect(1px 1px 1px 1px);\n",
       "  clip: rect(1px, 1px, 1px, 1px);\n",
       "  height: 1px;\n",
       "  margin: -1px;\n",
       "  overflow: hidden;\n",
       "  padding: 0;\n",
       "  position: absolute;\n",
       "  width: 1px;\n",
       "}\n",
       "\n",
       "#sk-container-id-1 div.sk-dashed-wrapped {\n",
       "  border: 1px dashed var(--sklearn-color-line);\n",
       "  margin: 0 0.4em 0.5em 0.4em;\n",
       "  box-sizing: border-box;\n",
       "  padding-bottom: 0.4em;\n",
       "  background-color: var(--sklearn-color-background);\n",
       "}\n",
       "\n",
       "#sk-container-id-1 div.sk-container {\n",
       "  /* jupyter's `normalize.less` sets `[hidden] { display: none; }`\n",
       "     but bootstrap.min.css set `[hidden] { display: none !important; }`\n",
       "     so we also need the `!important` here to be able to override the\n",
       "     default hidden behavior on the sphinx rendered scikit-learn.org.\n",
       "     See: https://github.com/scikit-learn/scikit-learn/issues/21755 */\n",
       "  display: inline-block !important;\n",
       "  position: relative;\n",
       "}\n",
       "\n",
       "#sk-container-id-1 div.sk-text-repr-fallback {\n",
       "  display: none;\n",
       "}\n",
       "\n",
       "div.sk-parallel-item,\n",
       "div.sk-serial,\n",
       "div.sk-item {\n",
       "  /* draw centered vertical line to link estimators */\n",
       "  background-image: linear-gradient(var(--sklearn-color-text-on-default-background), var(--sklearn-color-text-on-default-background));\n",
       "  background-size: 2px 100%;\n",
       "  background-repeat: no-repeat;\n",
       "  background-position: center center;\n",
       "}\n",
       "\n",
       "/* Parallel-specific style estimator block */\n",
       "\n",
       "#sk-container-id-1 div.sk-parallel-item::after {\n",
       "  content: \"\";\n",
       "  width: 100%;\n",
       "  border-bottom: 2px solid var(--sklearn-color-text-on-default-background);\n",
       "  flex-grow: 1;\n",
       "}\n",
       "\n",
       "#sk-container-id-1 div.sk-parallel {\n",
       "  display: flex;\n",
       "  align-items: stretch;\n",
       "  justify-content: center;\n",
       "  background-color: var(--sklearn-color-background);\n",
       "  position: relative;\n",
       "}\n",
       "\n",
       "#sk-container-id-1 div.sk-parallel-item {\n",
       "  display: flex;\n",
       "  flex-direction: column;\n",
       "}\n",
       "\n",
       "#sk-container-id-1 div.sk-parallel-item:first-child::after {\n",
       "  align-self: flex-end;\n",
       "  width: 50%;\n",
       "}\n",
       "\n",
       "#sk-container-id-1 div.sk-parallel-item:last-child::after {\n",
       "  align-self: flex-start;\n",
       "  width: 50%;\n",
       "}\n",
       "\n",
       "#sk-container-id-1 div.sk-parallel-item:only-child::after {\n",
       "  width: 0;\n",
       "}\n",
       "\n",
       "/* Serial-specific style estimator block */\n",
       "\n",
       "#sk-container-id-1 div.sk-serial {\n",
       "  display: flex;\n",
       "  flex-direction: column;\n",
       "  align-items: center;\n",
       "  background-color: var(--sklearn-color-background);\n",
       "  padding-right: 1em;\n",
       "  padding-left: 1em;\n",
       "}\n",
       "\n",
       "\n",
       "/* Toggleable style: style used for estimator/Pipeline/ColumnTransformer box that is\n",
       "clickable and can be expanded/collapsed.\n",
       "- Pipeline and ColumnTransformer use this feature and define the default style\n",
       "- Estimators will overwrite some part of the style using the `sk-estimator` class\n",
       "*/\n",
       "\n",
       "/* Pipeline and ColumnTransformer style (default) */\n",
       "\n",
       "#sk-container-id-1 div.sk-toggleable {\n",
       "  /* Default theme specific background. It is overwritten whether we have a\n",
       "  specific estimator or a Pipeline/ColumnTransformer */\n",
       "  background-color: var(--sklearn-color-background);\n",
       "}\n",
       "\n",
       "/* Toggleable label */\n",
       "#sk-container-id-1 label.sk-toggleable__label {\n",
       "  cursor: pointer;\n",
       "  display: block;\n",
       "  width: 100%;\n",
       "  margin-bottom: 0;\n",
       "  padding: 0.5em;\n",
       "  box-sizing: border-box;\n",
       "  text-align: center;\n",
       "}\n",
       "\n",
       "#sk-container-id-1 label.sk-toggleable__label-arrow:before {\n",
       "  /* Arrow on the left of the label */\n",
       "  content: \"▸\";\n",
       "  float: left;\n",
       "  margin-right: 0.25em;\n",
       "  color: var(--sklearn-color-icon);\n",
       "}\n",
       "\n",
       "#sk-container-id-1 label.sk-toggleable__label-arrow:hover:before {\n",
       "  color: var(--sklearn-color-text);\n",
       "}\n",
       "\n",
       "/* Toggleable content - dropdown */\n",
       "\n",
       "#sk-container-id-1 div.sk-toggleable__content {\n",
       "  max-height: 0;\n",
       "  max-width: 0;\n",
       "  overflow: hidden;\n",
       "  text-align: left;\n",
       "  /* unfitted */\n",
       "  background-color: var(--sklearn-color-unfitted-level-0);\n",
       "}\n",
       "\n",
       "#sk-container-id-1 div.sk-toggleable__content.fitted {\n",
       "  /* fitted */\n",
       "  background-color: var(--sklearn-color-fitted-level-0);\n",
       "}\n",
       "\n",
       "#sk-container-id-1 div.sk-toggleable__content pre {\n",
       "  margin: 0.2em;\n",
       "  border-radius: 0.25em;\n",
       "  color: var(--sklearn-color-text);\n",
       "  /* unfitted */\n",
       "  background-color: var(--sklearn-color-unfitted-level-0);\n",
       "}\n",
       "\n",
       "#sk-container-id-1 div.sk-toggleable__content.fitted pre {\n",
       "  /* unfitted */\n",
       "  background-color: var(--sklearn-color-fitted-level-0);\n",
       "}\n",
       "\n",
       "#sk-container-id-1 input.sk-toggleable__control:checked~div.sk-toggleable__content {\n",
       "  /* Expand drop-down */\n",
       "  max-height: 200px;\n",
       "  max-width: 100%;\n",
       "  overflow: auto;\n",
       "}\n",
       "\n",
       "#sk-container-id-1 input.sk-toggleable__control:checked~label.sk-toggleable__label-arrow:before {\n",
       "  content: \"▾\";\n",
       "}\n",
       "\n",
       "/* Pipeline/ColumnTransformer-specific style */\n",
       "\n",
       "#sk-container-id-1 div.sk-label input.sk-toggleable__control:checked~label.sk-toggleable__label {\n",
       "  color: var(--sklearn-color-text);\n",
       "  background-color: var(--sklearn-color-unfitted-level-2);\n",
       "}\n",
       "\n",
       "#sk-container-id-1 div.sk-label.fitted input.sk-toggleable__control:checked~label.sk-toggleable__label {\n",
       "  background-color: var(--sklearn-color-fitted-level-2);\n",
       "}\n",
       "\n",
       "/* Estimator-specific style */\n",
       "\n",
       "/* Colorize estimator box */\n",
       "#sk-container-id-1 div.sk-estimator input.sk-toggleable__control:checked~label.sk-toggleable__label {\n",
       "  /* unfitted */\n",
       "  background-color: var(--sklearn-color-unfitted-level-2);\n",
       "}\n",
       "\n",
       "#sk-container-id-1 div.sk-estimator.fitted input.sk-toggleable__control:checked~label.sk-toggleable__label {\n",
       "  /* fitted */\n",
       "  background-color: var(--sklearn-color-fitted-level-2);\n",
       "}\n",
       "\n",
       "#sk-container-id-1 div.sk-label label.sk-toggleable__label,\n",
       "#sk-container-id-1 div.sk-label label {\n",
       "  /* The background is the default theme color */\n",
       "  color: var(--sklearn-color-text-on-default-background);\n",
       "}\n",
       "\n",
       "/* On hover, darken the color of the background */\n",
       "#sk-container-id-1 div.sk-label:hover label.sk-toggleable__label {\n",
       "  color: var(--sklearn-color-text);\n",
       "  background-color: var(--sklearn-color-unfitted-level-2);\n",
       "}\n",
       "\n",
       "/* Label box, darken color on hover, fitted */\n",
       "#sk-container-id-1 div.sk-label.fitted:hover label.sk-toggleable__label.fitted {\n",
       "  color: var(--sklearn-color-text);\n",
       "  background-color: var(--sklearn-color-fitted-level-2);\n",
       "}\n",
       "\n",
       "/* Estimator label */\n",
       "\n",
       "#sk-container-id-1 div.sk-label label {\n",
       "  font-family: monospace;\n",
       "  font-weight: bold;\n",
       "  display: inline-block;\n",
       "  line-height: 1.2em;\n",
       "}\n",
       "\n",
       "#sk-container-id-1 div.sk-label-container {\n",
       "  text-align: center;\n",
       "}\n",
       "\n",
       "/* Estimator-specific */\n",
       "#sk-container-id-1 div.sk-estimator {\n",
       "  font-family: monospace;\n",
       "  border: 1px dotted var(--sklearn-color-border-box);\n",
       "  border-radius: 0.25em;\n",
       "  box-sizing: border-box;\n",
       "  margin-bottom: 0.5em;\n",
       "  /* unfitted */\n",
       "  background-color: var(--sklearn-color-unfitted-level-0);\n",
       "}\n",
       "\n",
       "#sk-container-id-1 div.sk-estimator.fitted {\n",
       "  /* fitted */\n",
       "  background-color: var(--sklearn-color-fitted-level-0);\n",
       "}\n",
       "\n",
       "/* on hover */\n",
       "#sk-container-id-1 div.sk-estimator:hover {\n",
       "  /* unfitted */\n",
       "  background-color: var(--sklearn-color-unfitted-level-2);\n",
       "}\n",
       "\n",
       "#sk-container-id-1 div.sk-estimator.fitted:hover {\n",
       "  /* fitted */\n",
       "  background-color: var(--sklearn-color-fitted-level-2);\n",
       "}\n",
       "\n",
       "/* Specification for estimator info (e.g. \"i\" and \"?\") */\n",
       "\n",
       "/* Common style for \"i\" and \"?\" */\n",
       "\n",
       ".sk-estimator-doc-link,\n",
       "a:link.sk-estimator-doc-link,\n",
       "a:visited.sk-estimator-doc-link {\n",
       "  float: right;\n",
       "  font-size: smaller;\n",
       "  line-height: 1em;\n",
       "  font-family: monospace;\n",
       "  background-color: var(--sklearn-color-background);\n",
       "  border-radius: 1em;\n",
       "  height: 1em;\n",
       "  width: 1em;\n",
       "  text-decoration: none !important;\n",
       "  margin-left: 1ex;\n",
       "  /* unfitted */\n",
       "  border: var(--sklearn-color-unfitted-level-1) 1pt solid;\n",
       "  color: var(--sklearn-color-unfitted-level-1);\n",
       "}\n",
       "\n",
       ".sk-estimator-doc-link.fitted,\n",
       "a:link.sk-estimator-doc-link.fitted,\n",
       "a:visited.sk-estimator-doc-link.fitted {\n",
       "  /* fitted */\n",
       "  border: var(--sklearn-color-fitted-level-1) 1pt solid;\n",
       "  color: var(--sklearn-color-fitted-level-1);\n",
       "}\n",
       "\n",
       "/* On hover */\n",
       "div.sk-estimator:hover .sk-estimator-doc-link:hover,\n",
       ".sk-estimator-doc-link:hover,\n",
       "div.sk-label-container:hover .sk-estimator-doc-link:hover,\n",
       ".sk-estimator-doc-link:hover {\n",
       "  /* unfitted */\n",
       "  background-color: var(--sklearn-color-unfitted-level-3);\n",
       "  color: var(--sklearn-color-background);\n",
       "  text-decoration: none;\n",
       "}\n",
       "\n",
       "div.sk-estimator.fitted:hover .sk-estimator-doc-link.fitted:hover,\n",
       ".sk-estimator-doc-link.fitted:hover,\n",
       "div.sk-label-container:hover .sk-estimator-doc-link.fitted:hover,\n",
       ".sk-estimator-doc-link.fitted:hover {\n",
       "  /* fitted */\n",
       "  background-color: var(--sklearn-color-fitted-level-3);\n",
       "  color: var(--sklearn-color-background);\n",
       "  text-decoration: none;\n",
       "}\n",
       "\n",
       "/* Span, style for the box shown on hovering the info icon */\n",
       ".sk-estimator-doc-link span {\n",
       "  display: none;\n",
       "  z-index: 9999;\n",
       "  position: relative;\n",
       "  font-weight: normal;\n",
       "  right: .2ex;\n",
       "  padding: .5ex;\n",
       "  margin: .5ex;\n",
       "  width: min-content;\n",
       "  min-width: 20ex;\n",
       "  max-width: 50ex;\n",
       "  color: var(--sklearn-color-text);\n",
       "  box-shadow: 2pt 2pt 4pt #999;\n",
       "  /* unfitted */\n",
       "  background: var(--sklearn-color-unfitted-level-0);\n",
       "  border: .5pt solid var(--sklearn-color-unfitted-level-3);\n",
       "}\n",
       "\n",
       ".sk-estimator-doc-link.fitted span {\n",
       "  /* fitted */\n",
       "  background: var(--sklearn-color-fitted-level-0);\n",
       "  border: var(--sklearn-color-fitted-level-3);\n",
       "}\n",
       "\n",
       ".sk-estimator-doc-link:hover span {\n",
       "  display: block;\n",
       "}\n",
       "\n",
       "/* \"?\"-specific style due to the `<a>` HTML tag */\n",
       "\n",
       "#sk-container-id-1 a.estimator_doc_link {\n",
       "  float: right;\n",
       "  font-size: 1rem;\n",
       "  line-height: 1em;\n",
       "  font-family: monospace;\n",
       "  background-color: var(--sklearn-color-background);\n",
       "  border-radius: 1rem;\n",
       "  height: 1rem;\n",
       "  width: 1rem;\n",
       "  text-decoration: none;\n",
       "  /* unfitted */\n",
       "  color: var(--sklearn-color-unfitted-level-1);\n",
       "  border: var(--sklearn-color-unfitted-level-1) 1pt solid;\n",
       "}\n",
       "\n",
       "#sk-container-id-1 a.estimator_doc_link.fitted {\n",
       "  /* fitted */\n",
       "  border: var(--sklearn-color-fitted-level-1) 1pt solid;\n",
       "  color: var(--sklearn-color-fitted-level-1);\n",
       "}\n",
       "\n",
       "/* On hover */\n",
       "#sk-container-id-1 a.estimator_doc_link:hover {\n",
       "  /* unfitted */\n",
       "  background-color: var(--sklearn-color-unfitted-level-3);\n",
       "  color: var(--sklearn-color-background);\n",
       "  text-decoration: none;\n",
       "}\n",
       "\n",
       "#sk-container-id-1 a.estimator_doc_link.fitted:hover {\n",
       "  /* fitted */\n",
       "  background-color: var(--sklearn-color-fitted-level-3);\n",
       "}\n",
       "</style><div id=\"sk-container-id-1\" class=\"sk-top-container\"><div class=\"sk-text-repr-fallback\"><pre>XGBClassifier(base_score=None, booster=None, callbacks=None,\n",
       "              colsample_bylevel=None, colsample_bynode=None,\n",
       "              colsample_bytree=None, device=None, early_stopping_rounds=None,\n",
       "              enable_categorical=False, eval_metric=None, feature_types=None,\n",
       "              gamma=None, grow_policy=None, importance_type=None,\n",
       "              interaction_constraints=None, learning_rate=None, max_bin=None,\n",
       "              max_cat_threshold=None, max_cat_to_onehot=None,\n",
       "              max_delta_step=None, max_depth=None, max_leaves=None,\n",
       "              min_child_weight=None, missing=nan, monotone_constraints=None,\n",
       "              multi_strategy=None, n_estimators=None, n_jobs=None,\n",
       "              num_parallel_tree=None, random_state=None, ...)</pre><b>In a Jupyter environment, please rerun this cell to show the HTML representation or trust the notebook. <br />On GitHub, the HTML representation is unable to render, please try loading this page with nbviewer.org.</b></div><div class=\"sk-container\" hidden><div class=\"sk-item\"><div class=\"sk-estimator fitted sk-toggleable\"><input class=\"sk-toggleable__control sk-hidden--visually\" id=\"sk-estimator-id-1\" type=\"checkbox\" checked><label for=\"sk-estimator-id-1\" class=\"sk-toggleable__label fitted sk-toggleable__label-arrow fitted\">&nbsp;XGBClassifier<span class=\"sk-estimator-doc-link fitted\">i<span>Fitted</span></span></label><div class=\"sk-toggleable__content fitted\"><pre>XGBClassifier(base_score=None, booster=None, callbacks=None,\n",
       "              colsample_bylevel=None, colsample_bynode=None,\n",
       "              colsample_bytree=None, device=None, early_stopping_rounds=None,\n",
       "              enable_categorical=False, eval_metric=None, feature_types=None,\n",
       "              gamma=None, grow_policy=None, importance_type=None,\n",
       "              interaction_constraints=None, learning_rate=None, max_bin=None,\n",
       "              max_cat_threshold=None, max_cat_to_onehot=None,\n",
       "              max_delta_step=None, max_depth=None, max_leaves=None,\n",
       "              min_child_weight=None, missing=nan, monotone_constraints=None,\n",
       "              multi_strategy=None, n_estimators=None, n_jobs=None,\n",
       "              num_parallel_tree=None, random_state=None, ...)</pre></div> </div></div></div></div>"
      ],
      "text/plain": [
       "XGBClassifier(base_score=None, booster=None, callbacks=None,\n",
       "              colsample_bylevel=None, colsample_bynode=None,\n",
       "              colsample_bytree=None, device=None, early_stopping_rounds=None,\n",
       "              enable_categorical=False, eval_metric=None, feature_types=None,\n",
       "              gamma=None, grow_policy=None, importance_type=None,\n",
       "              interaction_constraints=None, learning_rate=None, max_bin=None,\n",
       "              max_cat_threshold=None, max_cat_to_onehot=None,\n",
       "              max_delta_step=None, max_depth=None, max_leaves=None,\n",
       "              min_child_weight=None, missing=nan, monotone_constraints=None,\n",
       "              multi_strategy=None, n_estimators=None, n_jobs=None,\n",
       "              num_parallel_tree=None, random_state=None, ...)"
      ]
     },
     "execution_count": 44,
     "metadata": {},
     "output_type": "execute_result"
    }
   ],
   "source": [
    "xgbC.fit(features, label)"
   ]
  },
  {
   "cell_type": "code",
   "execution_count": null,
   "metadata": {},
   "outputs": [],
   "source": [
    "import pickle\n",
    "\n",
    "with open(\"models/xgboost_model.pkl\", \"wb\") as file:\n",
    "    pickle.dump(xgbC, file)\n",
    "\n",
    "print(\"Model saved as xgboost_model.pkl\")"
   ]
  }
 ],
 "metadata": {
  "colab": {
   "authorship_tag": "ABX9TyOshNakVVOZ6KUZLG1Tupsc",
   "collapsed_sections": [],
   "include_colab_link": true,
   "name": "eeg-epilepsy.ipynb",
   "provenance": []
  },
  "kernelspec": {
   "display_name": "Python 3",
   "name": "python3"
  },
  "language_info": {
   "codemirror_mode": {
    "name": "ipython",
    "version": 3
   },
   "file_extension": ".py",
   "mimetype": "text/x-python",
   "name": "python",
   "nbconvert_exporter": "python",
   "pygments_lexer": "ipython3",
   "version": "3.9.6"
  }
 },
 "nbformat": 4,
 "nbformat_minor": 0
}
